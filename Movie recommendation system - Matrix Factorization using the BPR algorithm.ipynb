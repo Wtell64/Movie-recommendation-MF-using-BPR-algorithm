{
 "cells": [
  {
   "cell_type": "code",
   "execution_count": 7,
   "id": "3464af47",
   "metadata": {},
   "outputs": [],
   "source": [
    "import pandas as pd\n",
    "import numpy as np"
   ]
  },
  {
   "cell_type": "code",
   "execution_count": 8,
   "id": "1c8c9a03",
   "metadata": {},
   "outputs": [],
   "source": [
    "ratings = np.load('small_ratings.npy') # 624, 3 each list has 3 values: userid,movieid,rating\n",
    "users = np.load('users.npy')[:1000] # 1000 users\n",
    "movies = np.load('movies.npy')[:1000] # 1000 movies"
   ]
  },
  {
   "cell_type": "code",
   "execution_count": 69,
   "id": "cc27a687",
   "metadata": {},
   "outputs": [
    {
     "name": "stderr",
     "output_type": "stream",
     "text": [
      "C:\\Users\\TR\\AppData\\Local\\Temp\\ipykernel_14640\\2581442450.py:6: DtypeWarning: Columns (10) have mixed types. Specify dtype option on import or set low_memory=False.\n",
      "  movie_meta_data = pd.read_csv('movies_metadata.csv')\n"
     ]
    }
   ],
   "source": [
    "factors = 5 #num of factors to be used in matrix factorization\n",
    "iterations = 100000\n",
    "num_user = len(users)\n",
    "num_movies = len(movies)\n",
    "num_ratings = len(ratings)\n",
    "movie_meta_data = pd.read_csv('movies_metadata.csv')\n",
    "iterations = 100000\n",
    "lr = 1e-3\n",
    "lambda_p=0.02"
   ]
  },
  {
   "cell_type": "code",
   "execution_count": 10,
   "id": "a2d77f35",
   "metadata": {},
   "outputs": [],
   "source": [
    "# Scale and normalize ratings \n",
    "ratings[:, 2] -= 2.5\n",
    "ratings[:, 2] /= 2.5"
   ]
  },
  {
   "cell_type": "code",
   "execution_count": 11,
   "id": "e93f5298",
   "metadata": {},
   "outputs": [],
   "source": [
    "#Initialize the matrices\n",
    "W = np.random.uniform(low=-0.5, high=0.5, size= (num_user, factors))\n",
    "H = np.random.uniform(low=-0.5, high=0.5, size= (num_movies, factors))"
   ]
  },
  {
   "cell_type": "code",
   "execution_count": 12,
   "id": "8590495f",
   "metadata": {},
   "outputs": [],
   "source": [
    "D_s = []\n",
    "for ui, mi, ri in ratings:\n",
    "    for uj, mj, rj in ratings:\n",
    "        if ui != uj or mi == mj:\n",
    "            continue\n",
    "        if ri > rj:\n",
    "            D_s.append((int(ui),int(mi),int(mj)))\n",
    "    \n",
    "D_s = list(set(D_s)) # gert rid of the duplicates"
   ]
  },
  {
   "cell_type": "code",
   "execution_count": 13,
   "id": "eb163279",
   "metadata": {},
   "outputs": [],
   "source": [
    "def former_part(x_uij, partial_x):\n",
    "    exp_x = np.exp(-x_uij)\n",
    "    out = exp_x / (1 + exp_x) * partial_x\n",
    "    return out"
   ]
  },
  {
   "cell_type": "code",
   "execution_count": 70,
   "id": "596e2b5e",
   "metadata": {},
   "outputs": [
    {
     "name": "stdout",
     "output_type": "stream",
     "text": [
      "Changes in the parameters:\n",
      "0.37050953773075956\n",
      "Changes in the parameters:\n",
      "0.36956542388138336\n",
      "Changes in the parameters:\n",
      "0.3689585648956101\n",
      "Changes in the parameters:\n",
      "0.36832971165382306\n",
      "Changes in the parameters:\n",
      "0.36832971165382306\n",
      "Changes in the parameters:\n",
      "0.36719185844552604\n",
      "Changes in the parameters:\n",
      "0.3660230488430287\n",
      "Changes in the parameters:\n",
      "0.3655749147688197\n",
      "Changes in the parameters:\n",
      "0.3643023543748173\n",
      "Changes in the parameters:\n",
      "0.36386245950960927\n"
     ]
    }
   ],
   "source": [
    "#Training \n",
    "\n",
    "for itr in range(iterations):\n",
    "    u, i, j = D_s[np.random.randint(len(D_s))]\n",
    "    \n",
    "    xui = np.dot(W[u],H[i])\n",
    "    xuj = np.dot(W[u],H[j])\n",
    "    \n",
    "    diff = xui - xuj\n",
    "    \n",
    "    for f in range(factors):\n",
    "        W[u,f] -= lr * ( former_part(diff, H[i,f] - H[j,f] ) + lambda_p * W[u,f])\n",
    "        H[i,f] -= lr * ( former_part(diff, W[u,f]) + lambda_p * H[i,f])\n",
    "        H[j,f] -= lr * ( former_part(diff, -W[u,f]) + lambda_p * H[j,f])\n",
    "        \n",
    "    if itr % 10000 == 0:\n",
    "        print(\"Tracking the changes in the parameters:\")\n",
    "        print(W[25,1])\n",
    "        #print(H[10,1])"
   ]
  },
  {
   "cell_type": "code",
   "execution_count": 15,
   "id": "4b287550",
   "metadata": {},
   "outputs": [],
   "source": [
    "selected_user_id = 19"
   ]
  },
  {
   "cell_type": "code",
   "execution_count": 16,
   "id": "dbc08af8",
   "metadata": {},
   "outputs": [],
   "source": [
    "# Predict our matrix\n",
    "X_hat = np.dot(W,H.T)"
   ]
  },
  {
   "cell_type": "code",
   "execution_count": 41,
   "id": "f6fbffcb",
   "metadata": {},
   "outputs": [],
   "source": [
    "# Select top 5 suggestions\n",
    "selected_movies = np.argsort(X_hat[selected_user_id,])[:5]"
   ]
  },
  {
   "cell_type": "code",
   "execution_count": 65,
   "id": "1ff02728",
   "metadata": {},
   "outputs": [
    {
     "name": "stdout",
     "output_type": "stream",
     "text": [
      "Suggestion number 0\n",
      "Title: Vampire in Brooklyn\n",
      "ID & Genre: [{'id': 35, 'name': 'Comedy'}, {'id': 27, 'name': 'Horror'}, {'id': 10749, 'name': 'Romance'}] \n",
      "-------------------\n",
      "Suggestion number 1\n",
      "Title: Angel and the Badman\n",
      "ID & Genre: [{'id': 10749, 'name': 'Romance'}, {'id': 37, 'name': 'Western'}] \n",
      "-------------------\n",
      "Suggestion number 2\n",
      "Title: Tank Girl\n",
      "ID & Genre: [{'id': 28, 'name': 'Action'}, {'id': 35, 'name': 'Comedy'}, {'id': 14, 'name': 'Fantasy'}, {'id': 878, 'name': 'Science Fiction'}] \n",
      "-------------------\n",
      "Suggestion number 3\n",
      "Title: August\n",
      "ID & Genre: [{'id': 10749, 'name': 'Romance'}, {'id': 35, 'name': 'Comedy'}, {'id': 18, 'name': 'Drama'}] \n",
      "-------------------\n",
      "Suggestion number 4\n",
      "Title: The Fugitive\n",
      "ID & Genre: [{'id': 12, 'name': 'Adventure'}, {'id': 28, 'name': 'Action'}, {'id': 53, 'name': 'Thriller'}, {'id': 80, 'name': 'Crime'}, {'id': 9648, 'name': 'Mystery'}] \n",
      "-------------------\n"
     ]
    }
   ],
   "source": [
    "for i, j in enumerate(selected_movies):\n",
    "    movie_title = movie_meta_data.iloc[j,][\"original_title\"]\n",
    "    genre = movie_meta_data.iloc[j,][\"genres\"]\n",
    "    print(f\"Suggestion number {i}\")\n",
    "    print(f\"Title: {movie_title}\")\n",
    "    print(f\"ID & Genre: {genre} \")\n",
    "    print(\"-------------------\")"
   ]
  }
 ],
 "metadata": {
  "kernelspec": {
   "display_name": "Python 3 (ipykernel)",
   "language": "python",
   "name": "python3"
  },
  "language_info": {
   "codemirror_mode": {
    "name": "ipython",
    "version": 3
   },
   "file_extension": ".py",
   "mimetype": "text/x-python",
   "name": "python",
   "nbconvert_exporter": "python",
   "pygments_lexer": "ipython3",
   "version": "3.9.12"
  }
 },
 "nbformat": 4,
 "nbformat_minor": 5
}
